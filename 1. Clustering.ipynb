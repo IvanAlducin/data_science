{
 "cells": [
  {
   "cell_type": "markdown",
   "metadata": {},
   "source": [
    "# <span style='color:blue'> <center>Unsupervised Learning</center> </span>\n",
    "## **Chapter 1.** Clustering\n",
    "#### by **Ivan Alducin**\n",
    "<p><img src=\"https://cdn.gritglobal.io/uploads/too-broad-customer-segmentation.jpg\" width=\"1000\"/></p>"
   ]
  },
  {
   "cell_type": "markdown",
   "metadata": {},
   "source": [
    "## Segmentacion de Clientes\n",
    "<p>En esté capitulo nos vamos a enfocar en entender y trabajar un caso de uso para segmentación de clientes, pero antes de eso aquí una pequeña lista de más aplicaciones que se pueden trabajar con los datos recopliados de mis clientes\n",
    "\n",
    "- Estadística Descriptiva\n",
    "- Segmentación de Clientes\n",
    "- Predicción de Abandono\n",
    "- Valor del Cliente a traves del tiempo (CTLV)\n",
    "\n",
    "La segmentación la vamos a hacer con base en una metodolgía llamada <b>RFM</b>\n",
    "\n",
    "</p>"
   ]
  },
  {
   "cell_type": "code",
   "execution_count": 1,
   "metadata": {},
   "outputs": [
    {
     "data": {
      "text/html": [
       "<div>\n",
       "<style scoped>\n",
       "    .dataframe tbody tr th:only-of-type {\n",
       "        vertical-align: middle;\n",
       "    }\n",
       "\n",
       "    .dataframe tbody tr th {\n",
       "        vertical-align: top;\n",
       "    }\n",
       "\n",
       "    .dataframe thead th {\n",
       "        text-align: right;\n",
       "    }\n",
       "</style>\n",
       "<table border=\"1\" class=\"dataframe\">\n",
       "  <thead>\n",
       "    <tr style=\"text-align: right;\">\n",
       "      <th></th>\n",
       "      <th>INVOICE_NO</th>\n",
       "      <th>STOCK_CODE</th>\n",
       "      <th>DESCRIPTION</th>\n",
       "      <th>QUANTITY</th>\n",
       "      <th>INVOICE_DATE</th>\n",
       "      <th>UNIT_PRICE</th>\n",
       "      <th>CUSTOMER_ID</th>\n",
       "      <th>REGION</th>\n",
       "    </tr>\n",
       "  </thead>\n",
       "  <tbody>\n",
       "    <tr>\n",
       "      <th>0</th>\n",
       "      <td>536365</td>\n",
       "      <td>85123A</td>\n",
       "      <td>WHITE HANGING HEART T-LIGHT HOLDER</td>\n",
       "      <td>6</td>\n",
       "      <td>01/12/2019 08:26</td>\n",
       "      <td>2.55</td>\n",
       "      <td>17850.0</td>\n",
       "      <td>United Kingdom</td>\n",
       "    </tr>\n",
       "    <tr>\n",
       "      <th>1</th>\n",
       "      <td>536365</td>\n",
       "      <td>71053</td>\n",
       "      <td>WHITE METAL LANTERN</td>\n",
       "      <td>6</td>\n",
       "      <td>01/12/2019 08:26</td>\n",
       "      <td>3.39</td>\n",
       "      <td>17850.0</td>\n",
       "      <td>United Kingdom</td>\n",
       "    </tr>\n",
       "    <tr>\n",
       "      <th>2</th>\n",
       "      <td>536365</td>\n",
       "      <td>84406B</td>\n",
       "      <td>CREAM CUPID HEARTS COAT HANGER</td>\n",
       "      <td>8</td>\n",
       "      <td>01/12/2019 08:26</td>\n",
       "      <td>2.75</td>\n",
       "      <td>17850.0</td>\n",
       "      <td>United Kingdom</td>\n",
       "    </tr>\n",
       "    <tr>\n",
       "      <th>3</th>\n",
       "      <td>536365</td>\n",
       "      <td>84029G</td>\n",
       "      <td>KNITTED UNION FLAG HOT WATER BOTTLE</td>\n",
       "      <td>6</td>\n",
       "      <td>01/12/2019 08:26</td>\n",
       "      <td>3.39</td>\n",
       "      <td>17850.0</td>\n",
       "      <td>United Kingdom</td>\n",
       "    </tr>\n",
       "    <tr>\n",
       "      <th>4</th>\n",
       "      <td>536365</td>\n",
       "      <td>84029E</td>\n",
       "      <td>RED WOOLLY HOTTIE WHITE HEART.</td>\n",
       "      <td>6</td>\n",
       "      <td>01/12/2019 08:26</td>\n",
       "      <td>3.39</td>\n",
       "      <td>17850.0</td>\n",
       "      <td>United Kingdom</td>\n",
       "    </tr>\n",
       "  </tbody>\n",
       "</table>\n",
       "</div>"
      ],
      "text/plain": [
       "  INVOICE_NO STOCK_CODE                          DESCRIPTION  QUANTITY  \\\n",
       "0     536365     85123A   WHITE HANGING HEART T-LIGHT HOLDER         6   \n",
       "1     536365      71053                  WHITE METAL LANTERN         6   \n",
       "2     536365     84406B       CREAM CUPID HEARTS COAT HANGER         8   \n",
       "3     536365     84029G  KNITTED UNION FLAG HOT WATER BOTTLE         6   \n",
       "4     536365     84029E       RED WOOLLY HOTTIE WHITE HEART.         6   \n",
       "\n",
       "       INVOICE_DATE  UNIT_PRICE  CUSTOMER_ID          REGION  \n",
       "0  01/12/2019 08:26        2.55      17850.0  United Kingdom  \n",
       "1  01/12/2019 08:26        3.39      17850.0  United Kingdom  \n",
       "2  01/12/2019 08:26        2.75      17850.0  United Kingdom  \n",
       "3  01/12/2019 08:26        3.39      17850.0  United Kingdom  \n",
       "4  01/12/2019 08:26        3.39      17850.0  United Kingdom  "
      ]
     },
     "execution_count": 1,
     "metadata": {},
     "output_type": "execute_result"
    }
   ],
   "source": [
    "# Importa Pandas, Numpy, Seaborn y Matplotlib\n",
    "import pandas as pd\n",
    "import numpy as np\n",
    "import seaborn as sns\n",
    "import matplotlib.pyplot as plt\n",
    "import warnings\n",
    "warnings.filterwarnings('ignore')\n",
    "\n",
    "# Importa el archivo \"Online Retail.csv\"\n",
    "df = pd.read_csv('Online Retail.csv', encoding='latin1')\n",
    "df.head()"
   ]
  },
  {
   "cell_type": "code",
   "execution_count": 3,
   "metadata": {},
   "outputs": [
    {
     "name": "stdout",
     "output_type": "stream",
     "text": [
      "<class 'pandas.core.frame.DataFrame'>\n",
      "RangeIndex: 541909 entries, 0 to 541908\n",
      "Data columns (total 8 columns):\n",
      " #   Column        Non-Null Count   Dtype         \n",
      "---  ------        --------------   -----         \n",
      " 0   INVOICE_NO    541909 non-null  object        \n",
      " 1   STOCK_CODE    541909 non-null  object        \n",
      " 2   DESCRIPTION   540455 non-null  object        \n",
      " 3   QUANTITY      541909 non-null  int64         \n",
      " 4   INVOICE_DATE  541909 non-null  datetime64[ns]\n",
      " 5   UNIT_PRICE    541909 non-null  float64       \n",
      " 6   CUSTOMER_ID   406829 non-null  float64       \n",
      " 7   REGION        541909 non-null  object        \n",
      "dtypes: datetime64[ns](1), float64(2), int64(1), object(4)\n",
      "memory usage: 33.1+ MB\n"
     ]
    }
   ],
   "source": [
    "# Análisis Exploratorio\n",
    "df['INVOICE_DATE'] = pd.to_datetime(df['INVOICE_DATE'])\n",
    "df.info()"
   ]
  },
  {
   "cell_type": "markdown",
   "metadata": {},
   "source": [
    "## Recency\n",
    "<p>Indicador que nos dice que tan reciente es la compra de un cliente</p>"
   ]
  },
  {
   "cell_type": "code",
   "execution_count": 4,
   "metadata": {},
   "outputs": [
    {
     "data": {
      "text/html": [
       "<div>\n",
       "<style scoped>\n",
       "    .dataframe tbody tr th:only-of-type {\n",
       "        vertical-align: middle;\n",
       "    }\n",
       "\n",
       "    .dataframe tbody tr th {\n",
       "        vertical-align: top;\n",
       "    }\n",
       "\n",
       "    .dataframe thead th {\n",
       "        text-align: right;\n",
       "    }\n",
       "</style>\n",
       "<table border=\"1\" class=\"dataframe\">\n",
       "  <thead>\n",
       "    <tr style=\"text-align: right;\">\n",
       "      <th></th>\n",
       "      <th>CUSTOMER_ID</th>\n",
       "    </tr>\n",
       "  </thead>\n",
       "  <tbody>\n",
       "    <tr>\n",
       "      <th>0</th>\n",
       "      <td>17850.0</td>\n",
       "    </tr>\n",
       "    <tr>\n",
       "      <th>1</th>\n",
       "      <td>13047.0</td>\n",
       "    </tr>\n",
       "    <tr>\n",
       "      <th>2</th>\n",
       "      <td>12583.0</td>\n",
       "    </tr>\n",
       "    <tr>\n",
       "      <th>3</th>\n",
       "      <td>13748.0</td>\n",
       "    </tr>\n",
       "    <tr>\n",
       "      <th>4</th>\n",
       "      <td>15100.0</td>\n",
       "    </tr>\n",
       "  </tbody>\n",
       "</table>\n",
       "</div>"
      ],
      "text/plain": [
       "   CUSTOMER_ID\n",
       "0      17850.0\n",
       "1      13047.0\n",
       "2      12583.0\n",
       "3      13748.0\n",
       "4      15100.0"
      ]
     },
     "execution_count": 4,
     "metadata": {},
     "output_type": "execute_result"
    }
   ],
   "source": [
    "# Obtener los clientes unicos\n",
    "customer = pd.DataFrame(df['CUSTOMER_ID'].unique())\n",
    "customer.columns = ['CUSTOMER_ID']\n",
    "customer.head()"
   ]
  },
  {
   "cell_type": "code",
   "execution_count": 5,
   "metadata": {},
   "outputs": [
    {
     "data": {
      "text/html": [
       "<div>\n",
       "<style scoped>\n",
       "    .dataframe tbody tr th:only-of-type {\n",
       "        vertical-align: middle;\n",
       "    }\n",
       "\n",
       "    .dataframe tbody tr th {\n",
       "        vertical-align: top;\n",
       "    }\n",
       "\n",
       "    .dataframe thead th {\n",
       "        text-align: right;\n",
       "    }\n",
       "</style>\n",
       "<table border=\"1\" class=\"dataframe\">\n",
       "  <thead>\n",
       "    <tr style=\"text-align: right;\">\n",
       "      <th></th>\n",
       "      <th>CUSTOMER_ID</th>\n",
       "      <th>MAX_PURCHASE_DATE</th>\n",
       "    </tr>\n",
       "  </thead>\n",
       "  <tbody>\n",
       "    <tr>\n",
       "      <th>0</th>\n",
       "      <td>12346.0</td>\n",
       "      <td>2020-01-18 10:17:00</td>\n",
       "    </tr>\n",
       "    <tr>\n",
       "      <th>1</th>\n",
       "      <td>12347.0</td>\n",
       "      <td>2020-10-31 12:25:00</td>\n",
       "    </tr>\n",
       "    <tr>\n",
       "      <th>2</th>\n",
       "      <td>12348.0</td>\n",
       "      <td>2020-09-25 13:13:00</td>\n",
       "    </tr>\n",
       "    <tr>\n",
       "      <th>3</th>\n",
       "      <td>12349.0</td>\n",
       "      <td>2020-11-21 09:51:00</td>\n",
       "    </tr>\n",
       "    <tr>\n",
       "      <th>4</th>\n",
       "      <td>12350.0</td>\n",
       "      <td>2020-02-02 16:01:00</td>\n",
       "    </tr>\n",
       "  </tbody>\n",
       "</table>\n",
       "</div>"
      ],
      "text/plain": [
       "   CUSTOMER_ID   MAX_PURCHASE_DATE\n",
       "0      12346.0 2020-01-18 10:17:00\n",
       "1      12347.0 2020-10-31 12:25:00\n",
       "2      12348.0 2020-09-25 13:13:00\n",
       "3      12349.0 2020-11-21 09:51:00\n",
       "4      12350.0 2020-02-02 16:01:00"
      ]
     },
     "execution_count": 5,
     "metadata": {},
     "output_type": "execute_result"
    }
   ],
   "source": [
    "# Obtener la última fecha de compra por cliente\n",
    "max_purchase = df.groupby('CUSTOMER_ID')['INVOICE_DATE'].max().reset_index()\n",
    "max_purchase.columns = ['CUSTOMER_ID', 'MAX_PURCHASE_DATE']\n",
    "max_purchase.head()"
   ]
  },
  {
   "cell_type": "code",
   "execution_count": 6,
   "metadata": {},
   "outputs": [],
   "source": [
    "# Vamos a calcular nuestra metrica de Recency, esto lo haremos restando los días de la última fecha de compra a cada observacón\n",
    "max_purchase['RECENCY'] = (max_purchase['MAX_PURCHASE_DATE'].max() - max_purchase['MAX_PURCHASE_DATE']).dt.days"
   ]
  },
  {
   "cell_type": "code",
   "execution_count": 7,
   "metadata": {},
   "outputs": [
    {
     "data": {
      "text/html": [
       "<div>\n",
       "<style scoped>\n",
       "    .dataframe tbody tr th:only-of-type {\n",
       "        vertical-align: middle;\n",
       "    }\n",
       "\n",
       "    .dataframe tbody tr th {\n",
       "        vertical-align: top;\n",
       "    }\n",
       "\n",
       "    .dataframe thead th {\n",
       "        text-align: right;\n",
       "    }\n",
       "</style>\n",
       "<table border=\"1\" class=\"dataframe\">\n",
       "  <thead>\n",
       "    <tr style=\"text-align: right;\">\n",
       "      <th></th>\n",
       "      <th>CUSTOMER_ID</th>\n",
       "      <th>MAX_PURCHASE_DATE</th>\n",
       "      <th>RECENCY</th>\n",
       "    </tr>\n",
       "  </thead>\n",
       "  <tbody>\n",
       "    <tr>\n",
       "      <th>0</th>\n",
       "      <td>17850.0</td>\n",
       "      <td>2020-10-02 14:38:00</td>\n",
       "      <td>69</td>\n",
       "    </tr>\n",
       "    <tr>\n",
       "      <th>1</th>\n",
       "      <td>13047.0</td>\n",
       "      <td>2020-10-24 14:02:00</td>\n",
       "      <td>47</td>\n",
       "    </tr>\n",
       "    <tr>\n",
       "      <th>2</th>\n",
       "      <td>12583.0</td>\n",
       "      <td>2020-12-10 14:46:00</td>\n",
       "      <td>0</td>\n",
       "    </tr>\n",
       "    <tr>\n",
       "      <th>3</th>\n",
       "      <td>13748.0</td>\n",
       "      <td>2020-07-04 10:13:00</td>\n",
       "      <td>159</td>\n",
       "    </tr>\n",
       "    <tr>\n",
       "      <th>4</th>\n",
       "      <td>15100.0</td>\n",
       "      <td>2020-10-01 10:35:00</td>\n",
       "      <td>70</td>\n",
       "    </tr>\n",
       "  </tbody>\n",
       "</table>\n",
       "</div>"
      ],
      "text/plain": [
       "   CUSTOMER_ID   MAX_PURCHASE_DATE  RECENCY\n",
       "0      17850.0 2020-10-02 14:38:00       69\n",
       "1      13047.0 2020-10-24 14:02:00       47\n",
       "2      12583.0 2020-12-10 14:46:00        0\n",
       "3      13748.0 2020-07-04 10:13:00      159\n",
       "4      15100.0 2020-10-01 10:35:00       70"
      ]
     },
     "execution_count": 7,
     "metadata": {},
     "output_type": "execute_result"
    }
   ],
   "source": [
    "# Unir el DataFrame de clientes únicos con el que acabamos de crear de la última fecha de compra\n",
    "customer = pd.merge(customer, max_purchase, on = 'CUSTOMER_ID')\n",
    "customer.head()"
   ]
  },
  {
   "cell_type": "code",
   "execution_count": 7,
   "metadata": {},
   "outputs": [
    {
     "data": {
      "text/plain": [
       "Text(0.5, 1.0, 'Recency Histogram')"
      ]
     },
     "execution_count": 7,
     "metadata": {},
     "output_type": "execute_result"
    },
    {
     "data": {
      "image/png": "[encoded data removed]",
      "text/plain": [
       "<Figure size 1152x576 with 1 Axes>"
      ]
     },
     "metadata": {
      "needs_background": "light"
     },
     "output_type": "display_data"
    }
   ],
   "source": [
    "# Grafica un histograma de Recency\n",
    "f, ax = plt.subplots(figsize=(16,8))\n",
    "sns.distplot(customer['RECENCY'], kde=False)\n",
    "ax.set_title('Recency Histogram')"
   ]
  },
  {
   "cell_type": "code",
   "execution_count": 8,
   "metadata": {},
   "outputs": [
    {
     "data": {
      "text/plain": [
       "57.0"
      ]
     },
     "execution_count": 8,
     "metadata": {},
     "output_type": "execute_result"
    }
   ],
   "source": [
    "customer['RECENCY'].median()"
   ]
  },
  {
   "cell_type": "code",
   "execution_count": 9,
   "metadata": {},
   "outputs": [
    {
     "data": {
      "text/plain": [
       "count    4372.000000\n",
       "mean      101.024016\n",
       "std       114.118209\n",
       "min         0.000000\n",
       "25%        20.000000\n",
       "50%        57.000000\n",
       "75%       152.000000\n",
       "max       698.000000\n",
       "Name: RECENCY, dtype: float64"
      ]
     },
     "execution_count": 9,
     "metadata": {},
     "output_type": "execute_result"
    }
   ],
   "source": [
    "# Imprime la Estadística de Resumen para Recency\n",
    "customer['RECENCY'].describe()"
   ]
  },
  {
   "cell_type": "markdown",
   "metadata": {},
   "source": [
    "## Frequency\n",
    "<p>Frecuencia con la que un cliente compra uno o más productos</p>"
   ]
  },
  {
   "cell_type": "code",
   "execution_count": 8,
   "metadata": {},
   "outputs": [
    {
     "data": {
      "text/html": [
       "<div>\n",
       "<style scoped>\n",
       "    .dataframe tbody tr th:only-of-type {\n",
       "        vertical-align: middle;\n",
       "    }\n",
       "\n",
       "    .dataframe tbody tr th {\n",
       "        vertical-align: top;\n",
       "    }\n",
       "\n",
       "    .dataframe thead th {\n",
       "        text-align: right;\n",
       "    }\n",
       "</style>\n",
       "<table border=\"1\" class=\"dataframe\">\n",
       "  <thead>\n",
       "    <tr style=\"text-align: right;\">\n",
       "      <th></th>\n",
       "      <th>CUSTOMER_ID</th>\n",
       "      <th>FREQUENCY</th>\n",
       "    </tr>\n",
       "  </thead>\n",
       "  <tbody>\n",
       "    <tr>\n",
       "      <th>0</th>\n",
       "      <td>12346.0</td>\n",
       "      <td>2</td>\n",
       "    </tr>\n",
       "    <tr>\n",
       "      <th>1</th>\n",
       "      <td>12347.0</td>\n",
       "      <td>7</td>\n",
       "    </tr>\n",
       "    <tr>\n",
       "      <th>2</th>\n",
       "      <td>12348.0</td>\n",
       "      <td>4</td>\n",
       "    </tr>\n",
       "    <tr>\n",
       "      <th>3</th>\n",
       "      <td>12349.0</td>\n",
       "      <td>1</td>\n",
       "    </tr>\n",
       "    <tr>\n",
       "      <th>4</th>\n",
       "      <td>12350.0</td>\n",
       "      <td>1</td>\n",
       "    </tr>\n",
       "  </tbody>\n",
       "</table>\n",
       "</div>"
      ],
      "text/plain": [
       "   CUSTOMER_ID  FREQUENCY\n",
       "0      12346.0          2\n",
       "1      12347.0          7\n",
       "2      12348.0          4\n",
       "3      12349.0          1\n",
       "4      12350.0          1"
      ]
     },
     "execution_count": 8,
     "metadata": {},
     "output_type": "execute_result"
    }
   ],
   "source": [
    "# Obtener el número de compras por cliente\n",
    "frequency = df.groupby('CUSTOMER_ID')['INVOICE_NO'].nunique().reset_index()\n",
    "frequency.columns = ['CUSTOMER_ID', 'FREQUENCY']\n",
    "frequency.head()"
   ]
  },
  {
   "cell_type": "code",
   "execution_count": 9,
   "metadata": {},
   "outputs": [
    {
     "data": {
      "text/html": [
       "<div>\n",
       "<style scoped>\n",
       "    .dataframe tbody tr th:only-of-type {\n",
       "        vertical-align: middle;\n",
       "    }\n",
       "\n",
       "    .dataframe tbody tr th {\n",
       "        vertical-align: top;\n",
       "    }\n",
       "\n",
       "    .dataframe thead th {\n",
       "        text-align: right;\n",
       "    }\n",
       "</style>\n",
       "<table border=\"1\" class=\"dataframe\">\n",
       "  <thead>\n",
       "    <tr style=\"text-align: right;\">\n",
       "      <th></th>\n",
       "      <th>CUSTOMER_ID</th>\n",
       "      <th>MAX_PURCHASE_DATE</th>\n",
       "      <th>RECENCY</th>\n",
       "      <th>FREQUENCY</th>\n",
       "    </tr>\n",
       "  </thead>\n",
       "  <tbody>\n",
       "    <tr>\n",
       "      <th>0</th>\n",
       "      <td>17850.0</td>\n",
       "      <td>2020-10-02 14:38:00</td>\n",
       "      <td>69</td>\n",
       "      <td>35</td>\n",
       "    </tr>\n",
       "    <tr>\n",
       "      <th>1</th>\n",
       "      <td>13047.0</td>\n",
       "      <td>2020-10-24 14:02:00</td>\n",
       "      <td>47</td>\n",
       "      <td>18</td>\n",
       "    </tr>\n",
       "    <tr>\n",
       "      <th>2</th>\n",
       "      <td>12583.0</td>\n",
       "      <td>2020-12-10 14:46:00</td>\n",
       "      <td>0</td>\n",
       "      <td>18</td>\n",
       "    </tr>\n",
       "    <tr>\n",
       "      <th>3</th>\n",
       "      <td>13748.0</td>\n",
       "      <td>2020-07-04 10:13:00</td>\n",
       "      <td>159</td>\n",
       "      <td>5</td>\n",
       "    </tr>\n",
       "    <tr>\n",
       "      <th>4</th>\n",
       "      <td>15100.0</td>\n",
       "      <td>2020-10-01 10:35:00</td>\n",
       "      <td>70</td>\n",
       "      <td>6</td>\n",
       "    </tr>\n",
       "  </tbody>\n",
       "</table>\n",
       "</div>"
      ],
      "text/plain": [
       "   CUSTOMER_ID   MAX_PURCHASE_DATE  RECENCY  FREQUENCY\n",
       "0      17850.0 2020-10-02 14:38:00       69         35\n",
       "1      13047.0 2020-10-24 14:02:00       47         18\n",
       "2      12583.0 2020-12-10 14:46:00        0         18\n",
       "3      13748.0 2020-07-04 10:13:00      159          5\n",
       "4      15100.0 2020-10-01 10:35:00       70          6"
      ]
     },
     "execution_count": 9,
     "metadata": {},
     "output_type": "execute_result"
    }
   ],
   "source": [
    "# Unir el DataFrame que acabamos de crear con el de los clientes unicos\n",
    "customer = pd.merge(customer, frequency, on='CUSTOMER_ID')\n",
    "customer.head()"
   ]
  },
  {
   "cell_type": "code",
   "execution_count": 12,
   "metadata": {},
   "outputs": [
    {
     "data": {
      "text/plain": [
       "Text(0.5, 1.0, 'Frequency Histogram')"
      ]
     },
     "execution_count": 12,
     "metadata": {},
     "output_type": "execute_result"
    },
    {
     "data": {
      "image/png": "[encoded data removed]",
      "text/plain": [
       "<Figure size 1152x576 with 1 Axes>"
      ]
     },
     "metadata": {
      "needs_background": "light"
     },
     "output_type": "display_data"
    }
   ],
   "source": [
    "# Grafica un histograma de Frequency\n",
    "f, ax = plt.subplots(figsize=(16,8))\n",
    "sns.distplot(customer['FREQUENCY'].where(lambda x: x<3000), kde=False)\n",
    "ax.set_title('Frequency Histogram')"
   ]
  },
  {
   "cell_type": "code",
   "execution_count": 13,
   "metadata": {},
   "outputs": [
    {
     "data": {
      "text/plain": [
       "count    4372.000000\n",
       "mean        5.075480\n",
       "std         9.338754\n",
       "min         1.000000\n",
       "25%         1.000000\n",
       "50%         3.000000\n",
       "75%         5.000000\n",
       "max       248.000000\n",
       "Name: FREQUENCY, dtype: float64"
      ]
     },
     "execution_count": 13,
     "metadata": {},
     "output_type": "execute_result"
    }
   ],
   "source": [
    "# Imprime la Estadística de Resumen para Frequency\n",
    "frequency['FREQUENCY'].describe()"
   ]
  },
  {
   "cell_type": "markdown",
   "metadata": {},
   "source": [
    "## Monetary\n",
    "<p>Valor del monto total que ha gastado un cliente en la compra de mis productos</p>"
   ]
  },
  {
   "cell_type": "code",
   "execution_count": 10,
   "metadata": {},
   "outputs": [
    {
     "data": {
      "text/html": [
       "<div>\n",
       "<style scoped>\n",
       "    .dataframe tbody tr th:only-of-type {\n",
       "        vertical-align: middle;\n",
       "    }\n",
       "\n",
       "    .dataframe tbody tr th {\n",
       "        vertical-align: top;\n",
       "    }\n",
       "\n",
       "    .dataframe thead th {\n",
       "        text-align: right;\n",
       "    }\n",
       "</style>\n",
       "<table border=\"1\" class=\"dataframe\">\n",
       "  <thead>\n",
       "    <tr style=\"text-align: right;\">\n",
       "      <th></th>\n",
       "      <th>CUSTOMER_ID</th>\n",
       "      <th>MONETARY</th>\n",
       "    </tr>\n",
       "  </thead>\n",
       "  <tbody>\n",
       "    <tr>\n",
       "      <th>0</th>\n",
       "      <td>12346.0</td>\n",
       "      <td>0.00</td>\n",
       "    </tr>\n",
       "    <tr>\n",
       "      <th>1</th>\n",
       "      <td>12347.0</td>\n",
       "      <td>4310.00</td>\n",
       "    </tr>\n",
       "    <tr>\n",
       "      <th>2</th>\n",
       "      <td>12348.0</td>\n",
       "      <td>1797.24</td>\n",
       "    </tr>\n",
       "    <tr>\n",
       "      <th>3</th>\n",
       "      <td>12349.0</td>\n",
       "      <td>1757.55</td>\n",
       "    </tr>\n",
       "    <tr>\n",
       "      <th>4</th>\n",
       "      <td>12350.0</td>\n",
       "      <td>334.40</td>\n",
       "    </tr>\n",
       "  </tbody>\n",
       "</table>\n",
       "</div>"
      ],
      "text/plain": [
       "   CUSTOMER_ID  MONETARY\n",
       "0      12346.0      0.00\n",
       "1      12347.0   4310.00\n",
       "2      12348.0   1797.24\n",
       "3      12349.0   1757.55\n",
       "4      12350.0    334.40"
      ]
     },
     "execution_count": 10,
     "metadata": {},
     "output_type": "execute_result"
    }
   ],
   "source": [
    "# Calcular el monto total por cada compra\n",
    "df['MONETARY'] = df['UNIT_PRICE'] * df['QUANTITY']\n",
    "\n",
    "# Obtener el valor monetario de compra por cliente\n",
    "monetary = df.groupby('CUSTOMER_ID')['MONETARY'].sum().reset_index()\n",
    "monetary.head()"
   ]
  },
  {
   "cell_type": "code",
   "execution_count": 11,
   "metadata": {},
   "outputs": [
    {
     "data": {
      "text/html": [
       "<div>\n",
       "<style scoped>\n",
       "    .dataframe tbody tr th:only-of-type {\n",
       "        vertical-align: middle;\n",
       "    }\n",
       "\n",
       "    .dataframe tbody tr th {\n",
       "        vertical-align: top;\n",
       "    }\n",
       "\n",
       "    .dataframe thead th {\n",
       "        text-align: right;\n",
       "    }\n",
       "</style>\n",
       "<table border=\"1\" class=\"dataframe\">\n",
       "  <thead>\n",
       "    <tr style=\"text-align: right;\">\n",
       "      <th></th>\n",
       "      <th>CUSTOMER_ID</th>\n",
       "      <th>MAX_PURCHASE_DATE</th>\n",
       "      <th>RECENCY</th>\n",
       "      <th>FREQUENCY</th>\n",
       "      <th>MONETARY</th>\n",
       "    </tr>\n",
       "  </thead>\n",
       "  <tbody>\n",
       "    <tr>\n",
       "      <th>0</th>\n",
       "      <td>17850.0</td>\n",
       "      <td>2020-10-02 14:38:00</td>\n",
       "      <td>69</td>\n",
       "      <td>35</td>\n",
       "      <td>5288.63</td>\n",
       "    </tr>\n",
       "    <tr>\n",
       "      <th>1</th>\n",
       "      <td>13047.0</td>\n",
       "      <td>2020-10-24 14:02:00</td>\n",
       "      <td>47</td>\n",
       "      <td>18</td>\n",
       "      <td>3079.10</td>\n",
       "    </tr>\n",
       "    <tr>\n",
       "      <th>2</th>\n",
       "      <td>12583.0</td>\n",
       "      <td>2020-12-10 14:46:00</td>\n",
       "      <td>0</td>\n",
       "      <td>18</td>\n",
       "      <td>7187.34</td>\n",
       "    </tr>\n",
       "    <tr>\n",
       "      <th>3</th>\n",
       "      <td>13748.0</td>\n",
       "      <td>2020-07-04 10:13:00</td>\n",
       "      <td>159</td>\n",
       "      <td>5</td>\n",
       "      <td>948.25</td>\n",
       "    </tr>\n",
       "    <tr>\n",
       "      <th>4</th>\n",
       "      <td>15100.0</td>\n",
       "      <td>2020-10-01 10:35:00</td>\n",
       "      <td>70</td>\n",
       "      <td>6</td>\n",
       "      <td>635.10</td>\n",
       "    </tr>\n",
       "  </tbody>\n",
       "</table>\n",
       "</div>"
      ],
      "text/plain": [
       "   CUSTOMER_ID   MAX_PURCHASE_DATE  RECENCY  FREQUENCY  MONETARY\n",
       "0      17850.0 2020-10-02 14:38:00       69         35   5288.63\n",
       "1      13047.0 2020-10-24 14:02:00       47         18   3079.10\n",
       "2      12583.0 2020-12-10 14:46:00        0         18   7187.34\n",
       "3      13748.0 2020-07-04 10:13:00      159          5    948.25\n",
       "4      15100.0 2020-10-01 10:35:00       70          6    635.10"
      ]
     },
     "execution_count": 11,
     "metadata": {},
     "output_type": "execute_result"
    }
   ],
   "source": [
    "# Unir el DataFrame que acabamos de crear con el de los clientes unicos\n",
    "customer = pd.merge(customer, monetary, on = 'CUSTOMER_ID')\n",
    "customer.head()"
   ]
  },
  {
   "cell_type": "code",
   "execution_count": 16,
   "metadata": {},
   "outputs": [
    {
     "data": {
      "text/plain": [
       "Text(0.5, 1.0, 'Monetary Histogram')"
      ]
     },
     "execution_count": 16,
     "metadata": {},
     "output_type": "execute_result"
    },
    {
     "data": {
      "image/png": "[encoded data removed]",
      "text/plain": [
       "<Figure size 1152x576 with 1 Axes>"
      ]
     },
     "metadata": {
      "needs_background": "light"
     },
     "output_type": "display_data"
    }
   ],
   "source": [
    "# Grafica un histograma de Monetary\n",
    "f, ax = plt.subplots(figsize=(16,8))\n",
    "sns.distplot(customer['MONETARY'].where(lambda x: x<10000), kde=False)\n",
    "ax.set_title('Monetary Histogram')"
   ]
  },
  {
   "cell_type": "code",
   "execution_count": 17,
   "metadata": {},
   "outputs": [
    {
     "data": {
      "text/plain": [
       "count      4372.000000\n",
       "mean       1898.459701\n",
       "std        8219.345141\n",
       "min       -4287.630000\n",
       "25%         293.362500\n",
       "50%         648.075000\n",
       "75%        1611.725000\n",
       "max      279489.020000\n",
       "Name: MONETARY, dtype: float64"
      ]
     },
     "execution_count": 17,
     "metadata": {},
     "output_type": "execute_result"
    }
   ],
   "source": [
    "# Imprime la Estadística de Resumen para Monetary\n",
    "monetary['MONETARY'].describe()"
   ]
  },
  {
   "cell_type": "markdown",
   "metadata": {},
   "source": [
    "## Algoritmo k-Means\n",
    "<p>Ya creamos nuestros indicadores principales de la metodología RFM. es hora de hacer <i>Machine Learning</i>. Para ello utilizaremos un algoritmo no supervisado llamado <b>k-Means</b></p>\n",
    "<p><img src=\"https://miro.medium.com/max/818/1*fG8u8nV7qR91wDyFDEEV-g.png\" width=\"250\"/></p>"
   ]
  },
  {
   "cell_type": "code",
   "execution_count": 12,
   "metadata": {},
   "outputs": [],
   "source": [
    "# Funcion para ordenar los clusters\n",
    "def order_cluster(cluster_field_name, target_field_name, df, ascending):\n",
    "    new_cluster_field_name = 'new_' + cluster_field_name\n",
    "    df_new = df.groupby(cluster_field_name)[target_field_name].mean().reset_index()\n",
    "    df_new = df_new.sort_values(by=target_field_name,ascending=ascending).reset_index(drop=True)\n",
    "    df_new['index'] = df_new.index\n",
    "    df_final = pd.merge(df,df_new[[cluster_field_name,'index']], on=cluster_field_name)\n",
    "    df_final = df_final.drop([cluster_field_name],axis=1)\n",
    "    df_final = df_final.rename(columns={\"index\":cluster_field_name})\n",
    "    return df_final"
   ]
  },
  {
   "cell_type": "markdown",
   "metadata": {},
   "source": [
    "## Elbow Method\n",
    "<p>¿Cual es mi número óptimo de clusters? Vamos a contruir una <i>gráfica de codo</i> para averiguarlo</p>"
   ]
  },
  {
   "cell_type": "code",
   "execution_count": 13,
   "metadata": {},
   "outputs": [],
   "source": [
    "# Importa la librería de kMeans\n",
    "from sklearn.cluster import KMeans"
   ]
  },
  {
   "cell_type": "code",
   "execution_count": 18,
   "metadata": {},
   "outputs": [
    {
     "data": {
      "image/png": "[encoded data removed]",
      "text/plain": [
       "<Figure size 864x576 with 1 Axes>"
      ]
     },
     "metadata": {
      "needs_background": "light"
     },
     "output_type": "display_data"
    }
   ],
   "source": [
    "# Configuración inicial - Vamos a tomar como referencia el indicador de Recency\n",
    "sse={}\n",
    "recency = customer[['RECENCY']]\n",
    "\n",
    "for k in range(1, 10):\n",
    "    # Instancia el algoritmo de k-means iterando sobre k\n",
    "    kmeans = KMeans(n_clusters=k, max_iter=1000)\n",
    "    \n",
    "    # Entrena el algoritmo\n",
    "    kmeans.fit(recency)\n",
    "    \n",
    "    # Adjunta las etiquetas\n",
    "    recency[\"clusters\"] = kmeans.labels_\n",
    "    \n",
    "    # Adunta la inercia o variación al arreglo sse\n",
    "    sse[k] = kmeans.inertia_\n",
    "    \n",
    "# Grafico de codo (Elbow)\n",
    "plt.figure(figsize=(12,8))\n",
    "plt.plot(list(sse.keys()), list(sse.values()))\n",
    "plt.xlabel(\"Number of cluster\")\n",
    "plt.show()"
   ]
  },
  {
   "cell_type": "code",
   "execution_count": 19,
   "metadata": {},
   "outputs": [
    {
     "data": {
      "text/html": [
       "<div>\n",
       "<style scoped>\n",
       "    .dataframe tbody tr th:only-of-type {\n",
       "        vertical-align: middle;\n",
       "    }\n",
       "\n",
       "    .dataframe tbody tr th {\n",
       "        vertical-align: top;\n",
       "    }\n",
       "\n",
       "    .dataframe thead th {\n",
       "        text-align: right;\n",
       "    }\n",
       "</style>\n",
       "<table border=\"1\" class=\"dataframe\">\n",
       "  <thead>\n",
       "    <tr style=\"text-align: right;\">\n",
       "      <th></th>\n",
       "      <th>count</th>\n",
       "      <th>mean</th>\n",
       "      <th>std</th>\n",
       "      <th>min</th>\n",
       "      <th>25%</th>\n",
       "      <th>50%</th>\n",
       "      <th>75%</th>\n",
       "      <th>max</th>\n",
       "    </tr>\n",
       "    <tr>\n",
       "      <th>RECENCY_CLUSTER</th>\n",
       "      <th></th>\n",
       "      <th></th>\n",
       "      <th></th>\n",
       "      <th></th>\n",
       "      <th></th>\n",
       "      <th></th>\n",
       "      <th></th>\n",
       "      <th></th>\n",
       "    </tr>\n",
       "  </thead>\n",
       "  <tbody>\n",
       "    <tr>\n",
       "      <th>0</th>\n",
       "      <td>76.0</td>\n",
       "      <td>589.934211</td>\n",
       "      <td>94.109912</td>\n",
       "      <td>455.0</td>\n",
       "      <td>486.0</td>\n",
       "      <td>639.0</td>\n",
       "      <td>667.0</td>\n",
       "      <td>698.0</td>\n",
       "    </tr>\n",
       "    <tr>\n",
       "      <th>1</th>\n",
       "      <td>614.0</td>\n",
       "      <td>279.363192</td>\n",
       "      <td>44.867978</td>\n",
       "      <td>212.0</td>\n",
       "      <td>243.0</td>\n",
       "      <td>270.5</td>\n",
       "      <td>313.5</td>\n",
       "      <td>425.0</td>\n",
       "    </tr>\n",
       "    <tr>\n",
       "      <th>2</th>\n",
       "      <td>956.0</td>\n",
       "      <td>143.399582</td>\n",
       "      <td>35.224120</td>\n",
       "      <td>88.0</td>\n",
       "      <td>114.0</td>\n",
       "      <td>142.0</td>\n",
       "      <td>174.0</td>\n",
       "      <td>211.0</td>\n",
       "    </tr>\n",
       "    <tr>\n",
       "      <th>3</th>\n",
       "      <td>2726.0</td>\n",
       "      <td>32.363536</td>\n",
       "      <td>24.061944</td>\n",
       "      <td>0.0</td>\n",
       "      <td>12.0</td>\n",
       "      <td>25.0</td>\n",
       "      <td>51.0</td>\n",
       "      <td>87.0</td>\n",
       "    </tr>\n",
       "  </tbody>\n",
       "</table>\n",
       "</div>"
      ],
      "text/plain": [
       "                  count        mean        std    min    25%    50%    75%  \\\n",
       "RECENCY_CLUSTER                                                              \n",
       "0                  76.0  589.934211  94.109912  455.0  486.0  639.0  667.0   \n",
       "1                 614.0  279.363192  44.867978  212.0  243.0  270.5  313.5   \n",
       "2                 956.0  143.399582  35.224120   88.0  114.0  142.0  174.0   \n",
       "3                2726.0   32.363536  24.061944    0.0   12.0   25.0   51.0   \n",
       "\n",
       "                   max  \n",
       "RECENCY_CLUSTER         \n",
       "0                698.0  \n",
       "1                425.0  \n",
       "2                211.0  \n",
       "3                 87.0  "
      ]
     },
     "execution_count": 19,
     "metadata": {},
     "output_type": "execute_result"
    }
   ],
   "source": [
    "# Instanciar el algoritmo con 4 clusters para Recency \n",
    "kmeans = KMeans(n_clusters=4)\n",
    "\n",
    "# Entrenar el algoritmo\n",
    "kmeans.fit(customer[['RECENCY']])\n",
    "\n",
    "# Obtener las predicciones\n",
    "customer['RECENCY_CLUSTER'] = kmeans.predict(customer[['RECENCY']])\n",
    "\n",
    "# Ordenar los clusters\n",
    "customer = order_cluster('RECENCY_CLUSTER', 'RECENCY', customer, False)\n",
    "\n",
    "# Estadística Descriptiva del cluster creado\n",
    "customer.groupby('RECENCY_CLUSTER')['RECENCY'].describe()"
   ]
  },
  {
   "cell_type": "code",
   "execution_count": 22,
   "metadata": {},
   "outputs": [
    {
     "data": {
      "text/html": [
       "<div>\n",
       "<style scoped>\n",
       "    .dataframe tbody tr th:only-of-type {\n",
       "        vertical-align: middle;\n",
       "    }\n",
       "\n",
       "    .dataframe tbody tr th {\n",
       "        vertical-align: top;\n",
       "    }\n",
       "\n",
       "    .dataframe thead th {\n",
       "        text-align: right;\n",
       "    }\n",
       "</style>\n",
       "<table border=\"1\" class=\"dataframe\">\n",
       "  <thead>\n",
       "    <tr style=\"text-align: right;\">\n",
       "      <th></th>\n",
       "      <th>count</th>\n",
       "      <th>mean</th>\n",
       "      <th>std</th>\n",
       "      <th>min</th>\n",
       "      <th>25%</th>\n",
       "      <th>50%</th>\n",
       "      <th>75%</th>\n",
       "      <th>max</th>\n",
       "    </tr>\n",
       "    <tr>\n",
       "      <th>FREQUENCY_CLUSTER</th>\n",
       "      <th></th>\n",
       "      <th></th>\n",
       "      <th></th>\n",
       "      <th></th>\n",
       "      <th></th>\n",
       "      <th></th>\n",
       "      <th></th>\n",
       "      <th></th>\n",
       "    </tr>\n",
       "  </thead>\n",
       "  <tbody>\n",
       "    <tr>\n",
       "      <th>0</th>\n",
       "      <td>3638.0</td>\n",
       "      <td>2.649808</td>\n",
       "      <td>1.772600</td>\n",
       "      <td>1.0</td>\n",
       "      <td>1.00</td>\n",
       "      <td>2.0</td>\n",
       "      <td>4.00</td>\n",
       "      <td>7.0</td>\n",
       "    </tr>\n",
       "    <tr>\n",
       "      <th>1</th>\n",
       "      <td>634.0</td>\n",
       "      <td>12.435331</td>\n",
       "      <td>4.244102</td>\n",
       "      <td>8.0</td>\n",
       "      <td>9.00</td>\n",
       "      <td>11.0</td>\n",
       "      <td>15.00</td>\n",
       "      <td>25.0</td>\n",
       "    </tr>\n",
       "    <tr>\n",
       "      <th>2</th>\n",
       "      <td>94.0</td>\n",
       "      <td>38.946809</td>\n",
       "      <td>14.795645</td>\n",
       "      <td>26.0</td>\n",
       "      <td>28.25</td>\n",
       "      <td>33.5</td>\n",
       "      <td>43.00</td>\n",
       "      <td>89.0</td>\n",
       "    </tr>\n",
       "    <tr>\n",
       "      <th>3</th>\n",
       "      <td>6.0</td>\n",
       "      <td>167.500000</td>\n",
       "      <td>56.807570</td>\n",
       "      <td>118.0</td>\n",
       "      <td>120.50</td>\n",
       "      <td>148.5</td>\n",
       "      <td>210.25</td>\n",
       "      <td>248.0</td>\n",
       "    </tr>\n",
       "  </tbody>\n",
       "</table>\n",
       "</div>"
      ],
      "text/plain": [
       "                    count        mean        std    min     25%    50%  \\\n",
       "FREQUENCY_CLUSTER                                                        \n",
       "0                  3638.0    2.649808   1.772600    1.0    1.00    2.0   \n",
       "1                   634.0   12.435331   4.244102    8.0    9.00   11.0   \n",
       "2                    94.0   38.946809  14.795645   26.0   28.25   33.5   \n",
       "3                     6.0  167.500000  56.807570  118.0  120.50  148.5   \n",
       "\n",
       "                      75%    max  \n",
       "FREQUENCY_CLUSTER                 \n",
       "0                    4.00    7.0  \n",
       "1                   15.00   25.0  \n",
       "2                   43.00   89.0  \n",
       "3                  210.25  248.0  "
      ]
     },
     "execution_count": 22,
     "metadata": {},
     "output_type": "execute_result"
    }
   ],
   "source": [
    "# Instanciar el algoritmo con 4 clusters para Frequency \n",
    "kmeans = KMeans(n_clusters=4)\n",
    "\n",
    "# Entrenar el algoritmo\n",
    "kmeans.fit(customer[['FREQUENCY']])\n",
    "\n",
    "# Obtener las predicciones\n",
    "customer['FREQUENCY_CLUSTER'] = kmeans.predict(customer[['FREQUENCY']])\n",
    "\n",
    "# Ordenar los clusters\n",
    "customer = order_cluster('FREQUENCY_CLUSTER', 'FREQUENCY', customer, True)\n",
    "\n",
    "# Estadística Descriptiva de los clusters\n",
    "customer.groupby('FREQUENCY_CLUSTER')['FREQUENCY'].describe()"
   ]
  },
  {
   "cell_type": "code",
   "execution_count": 23,
   "metadata": {},
   "outputs": [
    {
     "data": {
      "text/html": [
       "<div>\n",
       "<style scoped>\n",
       "    .dataframe tbody tr th:only-of-type {\n",
       "        vertical-align: middle;\n",
       "    }\n",
       "\n",
       "    .dataframe tbody tr th {\n",
       "        vertical-align: top;\n",
       "    }\n",
       "\n",
       "    .dataframe thead th {\n",
       "        text-align: right;\n",
       "    }\n",
       "</style>\n",
       "<table border=\"1\" class=\"dataframe\">\n",
       "  <thead>\n",
       "    <tr style=\"text-align: right;\">\n",
       "      <th></th>\n",
       "      <th>count</th>\n",
       "      <th>mean</th>\n",
       "      <th>std</th>\n",
       "      <th>min</th>\n",
       "      <th>25%</th>\n",
       "      <th>50%</th>\n",
       "      <th>75%</th>\n",
       "      <th>max</th>\n",
       "    </tr>\n",
       "    <tr>\n",
       "      <th>MONETARY_CLUSTER</th>\n",
       "      <th></th>\n",
       "      <th></th>\n",
       "      <th></th>\n",
       "      <th></th>\n",
       "      <th></th>\n",
       "      <th></th>\n",
       "      <th></th>\n",
       "      <th></th>\n",
       "    </tr>\n",
       "  </thead>\n",
       "  <tbody>\n",
       "    <tr>\n",
       "      <th>0</th>\n",
       "      <td>4249.0</td>\n",
       "      <td>1155.749653</td>\n",
       "      <td>1391.274810</td>\n",
       "      <td>-4287.63</td>\n",
       "      <td>285.89</td>\n",
       "      <td>623.16</td>\n",
       "      <td>1469.450</td>\n",
       "      <td>8124.40</td>\n",
       "    </tr>\n",
       "    <tr>\n",
       "      <th>1</th>\n",
       "      <td>105.0</td>\n",
       "      <td>15185.934476</td>\n",
       "      <td>7543.107378</td>\n",
       "      <td>8221.09</td>\n",
       "      <td>10097.37</td>\n",
       "      <td>12288.22</td>\n",
       "      <td>17078.450</td>\n",
       "      <td>40340.78</td>\n",
       "    </tr>\n",
       "    <tr>\n",
       "      <th>2</th>\n",
       "      <td>15.0</td>\n",
       "      <td>71423.516000</td>\n",
       "      <td>28632.631870</td>\n",
       "      <td>50415.49</td>\n",
       "      <td>52287.28</td>\n",
       "      <td>57385.88</td>\n",
       "      <td>77008.730</td>\n",
       "      <td>132572.62</td>\n",
       "    </tr>\n",
       "    <tr>\n",
       "      <th>3</th>\n",
       "      <td>3.0</td>\n",
       "      <td>241136.560000</td>\n",
       "      <td>47874.073443</td>\n",
       "      <td>187482.17</td>\n",
       "      <td>221960.33</td>\n",
       "      <td>256438.49</td>\n",
       "      <td>267963.755</td>\n",
       "      <td>279489.02</td>\n",
       "    </tr>\n",
       "  </tbody>\n",
       "</table>\n",
       "</div>"
      ],
      "text/plain": [
       "                   count           mean           std        min        25%  \\\n",
       "MONETARY_CLUSTER                                                              \n",
       "0                 4249.0    1155.749653   1391.274810   -4287.63     285.89   \n",
       "1                  105.0   15185.934476   7543.107378    8221.09   10097.37   \n",
       "2                   15.0   71423.516000  28632.631870   50415.49   52287.28   \n",
       "3                    3.0  241136.560000  47874.073443  187482.17  221960.33   \n",
       "\n",
       "                        50%         75%        max  \n",
       "MONETARY_CLUSTER                                    \n",
       "0                    623.16    1469.450    8124.40  \n",
       "1                  12288.22   17078.450   40340.78  \n",
       "2                  57385.88   77008.730  132572.62  \n",
       "3                 256438.49  267963.755  279489.02  "
      ]
     },
     "execution_count": 23,
     "metadata": {},
     "output_type": "execute_result"
    }
   ],
   "source": [
    "# Instanciar el algoritmo con 4 clusters para Monetary \n",
    "kmeans = KMeans(n_clusters=4)\n",
    "\n",
    "# Entrenar el algoritmo\n",
    "kmeans.fit(customer[['MONETARY']])\n",
    "\n",
    "# Obtener las predicciones\n",
    "customer['MONETARY_CLUSTER'] = kmeans.predict(customer[['MONETARY']])\n",
    "\n",
    "# Ordenar los clusters ¿Como tienes que ordenar el cluster?\n",
    "customer = order_cluster('MONETARY_CLUSTER', 'MONETARY', customer, True)\n",
    "\n",
    "# Estadística Descriptiva de los clusters\n",
    "customer.groupby('MONETARY_CLUSTER')['MONETARY'].describe()"
   ]
  },
  {
   "cell_type": "markdown",
   "metadata": {},
   "source": [
    "## Score de Segmentación\n",
    "<p>El algoritmo de k-means nos da una segmentación generalizada, pero podemos personalizarla aún más creando una métrica que asigne una calificación al valor del cluster. Esto es lo que vamos a hacer!!</p>"
   ]
  },
  {
   "cell_type": "code",
   "execution_count": 24,
   "metadata": {},
   "outputs": [
    {
     "data": {
      "text/html": [
       "<div>\n",
       "<style scoped>\n",
       "    .dataframe tbody tr th:only-of-type {\n",
       "        vertical-align: middle;\n",
       "    }\n",
       "\n",
       "    .dataframe tbody tr th {\n",
       "        vertical-align: top;\n",
       "    }\n",
       "\n",
       "    .dataframe thead th {\n",
       "        text-align: right;\n",
       "    }\n",
       "</style>\n",
       "<table border=\"1\" class=\"dataframe\">\n",
       "  <thead>\n",
       "    <tr style=\"text-align: right;\">\n",
       "      <th></th>\n",
       "      <th>RECENCY</th>\n",
       "      <th>FREQUENCY</th>\n",
       "      <th>MONETARY</th>\n",
       "    </tr>\n",
       "    <tr>\n",
       "      <th>SCORE</th>\n",
       "      <th></th>\n",
       "      <th></th>\n",
       "      <th></th>\n",
       "    </tr>\n",
       "  </thead>\n",
       "  <tbody>\n",
       "    <tr>\n",
       "      <th>0</th>\n",
       "      <td>589.934211</td>\n",
       "      <td>1.131579</td>\n",
       "      <td>217.693816</td>\n",
       "    </tr>\n",
       "    <tr>\n",
       "      <th>1</th>\n",
       "      <td>280.271523</td>\n",
       "      <td>1.443709</td>\n",
       "      <td>384.281341</td>\n",
       "    </tr>\n",
       "    <tr>\n",
       "      <th>2</th>\n",
       "      <td>145.884074</td>\n",
       "      <td>2.313109</td>\n",
       "      <td>664.340249</td>\n",
       "    </tr>\n",
       "    <tr>\n",
       "      <th>3</th>\n",
       "      <td>37.675899</td>\n",
       "      <td>3.301749</td>\n",
       "      <td>1004.184846</td>\n",
       "    </tr>\n",
       "    <tr>\n",
       "      <th>4</th>\n",
       "      <td>23.920213</td>\n",
       "      <td>12.124113</td>\n",
       "      <td>3411.487358</td>\n",
       "    </tr>\n",
       "    <tr>\n",
       "      <th>5</th>\n",
       "      <td>14.716049</td>\n",
       "      <td>23.987654</td>\n",
       "      <td>10547.364444</td>\n",
       "    </tr>\n",
       "    <tr>\n",
       "      <th>6</th>\n",
       "      <td>9.608696</td>\n",
       "      <td>39.173913</td>\n",
       "      <td>16689.731304</td>\n",
       "    </tr>\n",
       "    <tr>\n",
       "      <th>7</th>\n",
       "      <td>15.857143</td>\n",
       "      <td>74.357143</td>\n",
       "      <td>60906.152857</td>\n",
       "    </tr>\n",
       "    <tr>\n",
       "      <th>8</th>\n",
       "      <td>3.833333</td>\n",
       "      <td>113.000000</td>\n",
       "      <td>162131.253333</td>\n",
       "    </tr>\n",
       "  </tbody>\n",
       "</table>\n",
       "</div>"
      ],
      "text/plain": [
       "          RECENCY   FREQUENCY       MONETARY\n",
       "SCORE                                       \n",
       "0      589.934211    1.131579     217.693816\n",
       "1      280.271523    1.443709     384.281341\n",
       "2      145.884074    2.313109     664.340249\n",
       "3       37.675899    3.301749    1004.184846\n",
       "4       23.920213   12.124113    3411.487358\n",
       "5       14.716049   23.987654   10547.364444\n",
       "6        9.608696   39.173913   16689.731304\n",
       "7       15.857143   74.357143   60906.152857\n",
       "8        3.833333  113.000000  162131.253333"
      ]
     },
     "execution_count": 24,
     "metadata": {},
     "output_type": "execute_result"
    }
   ],
   "source": [
    "# Vamos a crear nuestro score sumando el valor de cada uno de los clusters\n",
    "customer['SCORE'] = customer['RECENCY_CLUSTER'] + customer['FREQUENCY_CLUSTER'] + customer['MONETARY_CLUSTER']\n",
    "\n",
    "# Obtener el promedio para cada una de las métricas de las calificaciones creadas (Score)\n",
    "customer.groupby('SCORE')['RECENCY','FREQUENCY','MONETARY'].mean()"
   ]
  },
  {
   "cell_type": "code",
   "execution_count": 25,
   "metadata": {},
   "outputs": [],
   "source": [
    "# Crea una funcion que asigne lo siguiente: \n",
    "# Si score <= 1 entonces 'Low-Value', si score >1 y <=4 entonces 'Average', si score >4 y <=6 entonces 'Potential', por último si score >6 entonces 'High-Value'\n",
    "def segment(score):\n",
    "    if(0 <= score <= 1):\n",
    "        s = 'Low-Value'\n",
    "    elif(2 <= score <= 4):\n",
    "        s = \"Average\"\n",
    "    elif(5 <= score <= 6):\n",
    "        s = \"Potential\"\n",
    "    elif(7 <= score <= 8):\n",
    "        s = \"High-Value\"\n",
    "    else:\n",
    "        s = \"Nothing\"\n",
    "    return s\n",
    "\n",
    "\n",
    "# Crear una columna aplicando esta función al campo 'SCORE'\n",
    "customer['SEGMENT'] = customer.apply(lambda x: segment(x['SCORE']), axis=1)"
   ]
  },
  {
   "cell_type": "code",
   "execution_count": 26,
   "metadata": {},
   "outputs": [
    {
     "data": {
      "text/html": [
       "<div>\n",
       "<style scoped>\n",
       "    .dataframe tbody tr th:only-of-type {\n",
       "        vertical-align: middle;\n",
       "    }\n",
       "\n",
       "    .dataframe tbody tr th {\n",
       "        vertical-align: top;\n",
       "    }\n",
       "\n",
       "    .dataframe thead th {\n",
       "        text-align: right;\n",
       "    }\n",
       "</style>\n",
       "<table border=\"1\" class=\"dataframe\">\n",
       "  <thead>\n",
       "    <tr style=\"text-align: right;\">\n",
       "      <th></th>\n",
       "      <th>CUSTOMER_ID</th>\n",
       "      <th>MAX_PURCHASE_DATE</th>\n",
       "      <th>RECENCY</th>\n",
       "      <th>FREQUENCY</th>\n",
       "      <th>MONETARY</th>\n",
       "      <th>RECENCY_CLUSTER</th>\n",
       "      <th>FREQUENCY_CLUSTER</th>\n",
       "      <th>MONETARY_CLUSTER</th>\n",
       "      <th>SCORE</th>\n",
       "      <th>SEGMENT</th>\n",
       "    </tr>\n",
       "  </thead>\n",
       "  <tbody>\n",
       "    <tr>\n",
       "      <th>3970</th>\n",
       "      <td>14041.0</td>\n",
       "      <td>2020-03-18 13:25:00</td>\n",
       "      <td>267</td>\n",
       "      <td>1</td>\n",
       "      <td>141.41</td>\n",
       "      <td>1</td>\n",
       "      <td>0</td>\n",
       "      <td>0</td>\n",
       "      <td>1</td>\n",
       "      <td>Low-Value</td>\n",
       "    </tr>\n",
       "    <tr>\n",
       "      <th>473</th>\n",
       "      <td>16712.0</td>\n",
       "      <td>2020-11-30 13:48:00</td>\n",
       "      <td>10</td>\n",
       "      <td>11</td>\n",
       "      <td>3645.43</td>\n",
       "      <td>3</td>\n",
       "      <td>1</td>\n",
       "      <td>0</td>\n",
       "      <td>4</td>\n",
       "      <td>Average</td>\n",
       "    </tr>\n",
       "    <tr>\n",
       "      <th>3232</th>\n",
       "      <td>17960.0</td>\n",
       "      <td>2020-06-21 14:15:00</td>\n",
       "      <td>172</td>\n",
       "      <td>1</td>\n",
       "      <td>73.78</td>\n",
       "      <td>2</td>\n",
       "      <td>0</td>\n",
       "      <td>0</td>\n",
       "      <td>2</td>\n",
       "      <td>Average</td>\n",
       "    </tr>\n",
       "    <tr>\n",
       "      <th>2207</th>\n",
       "      <td>14537.0</td>\n",
       "      <td>2020-10-13 10:54:00</td>\n",
       "      <td>58</td>\n",
       "      <td>1</td>\n",
       "      <td>355.56</td>\n",
       "      <td>3</td>\n",
       "      <td>0</td>\n",
       "      <td>0</td>\n",
       "      <td>3</td>\n",
       "      <td>Average</td>\n",
       "    </tr>\n",
       "    <tr>\n",
       "      <th>1934</th>\n",
       "      <td>12756.0</td>\n",
       "      <td>2020-09-14 09:31:00</td>\n",
       "      <td>87</td>\n",
       "      <td>1</td>\n",
       "      <td>112.08</td>\n",
       "      <td>3</td>\n",
       "      <td>0</td>\n",
       "      <td>0</td>\n",
       "      <td>3</td>\n",
       "      <td>Average</td>\n",
       "    </tr>\n",
       "    <tr>\n",
       "      <th>521</th>\n",
       "      <td>15214.0</td>\n",
       "      <td>2020-11-29 14:51:00</td>\n",
       "      <td>11</td>\n",
       "      <td>8</td>\n",
       "      <td>1661.44</td>\n",
       "      <td>3</td>\n",
       "      <td>1</td>\n",
       "      <td>0</td>\n",
       "      <td>4</td>\n",
       "      <td>Average</td>\n",
       "    </tr>\n",
       "    <tr>\n",
       "      <th>2197</th>\n",
       "      <td>12536.0</td>\n",
       "      <td>2020-11-10 14:52:00</td>\n",
       "      <td>30</td>\n",
       "      <td>5</td>\n",
       "      <td>4106.82</td>\n",
       "      <td>3</td>\n",
       "      <td>0</td>\n",
       "      <td>0</td>\n",
       "      <td>3</td>\n",
       "      <td>Average</td>\n",
       "    </tr>\n",
       "    <tr>\n",
       "      <th>1560</th>\n",
       "      <td>17970.0</td>\n",
       "      <td>2020-12-05 20:03:00</td>\n",
       "      <td>4</td>\n",
       "      <td>1</td>\n",
       "      <td>582.59</td>\n",
       "      <td>3</td>\n",
       "      <td>0</td>\n",
       "      <td>0</td>\n",
       "      <td>3</td>\n",
       "      <td>Average</td>\n",
       "    </tr>\n",
       "    <tr>\n",
       "      <th>215</th>\n",
       "      <td>14702.0</td>\n",
       "      <td>2020-11-21 11:50:00</td>\n",
       "      <td>19</td>\n",
       "      <td>18</td>\n",
       "      <td>3250.64</td>\n",
       "      <td>3</td>\n",
       "      <td>1</td>\n",
       "      <td>0</td>\n",
       "      <td>4</td>\n",
       "      <td>Average</td>\n",
       "    </tr>\n",
       "    <tr>\n",
       "      <th>928</th>\n",
       "      <td>14167.0</td>\n",
       "      <td>2020-12-01 15:44:00</td>\n",
       "      <td>9</td>\n",
       "      <td>4</td>\n",
       "      <td>574.84</td>\n",
       "      <td>3</td>\n",
       "      <td>0</td>\n",
       "      <td>0</td>\n",
       "      <td>3</td>\n",
       "      <td>Average</td>\n",
       "    </tr>\n",
       "  </tbody>\n",
       "</table>\n",
       "</div>"
      ],
      "text/plain": [
       "      CUSTOMER_ID   MAX_PURCHASE_DATE  RECENCY  FREQUENCY  MONETARY  \\\n",
       "3970      14041.0 2020-03-18 13:25:00      267          1    141.41   \n",
       "473       16712.0 2020-11-30 13:48:00       10         11   3645.43   \n",
       "3232      17960.0 2020-06-21 14:15:00      172          1     73.78   \n",
       "2207      14537.0 2020-10-13 10:54:00       58          1    355.56   \n",
       "1934      12756.0 2020-09-14 09:31:00       87          1    112.08   \n",
       "521       15214.0 2020-11-29 14:51:00       11          8   1661.44   \n",
       "2197      12536.0 2020-11-10 14:52:00       30          5   4106.82   \n",
       "1560      17970.0 2020-12-05 20:03:00        4          1    582.59   \n",
       "215       14702.0 2020-11-21 11:50:00       19         18   3250.64   \n",
       "928       14167.0 2020-12-01 15:44:00        9          4    574.84   \n",
       "\n",
       "      RECENCY_CLUSTER  FREQUENCY_CLUSTER  MONETARY_CLUSTER  SCORE    SEGMENT  \n",
       "3970                1                  0                 0      1  Low-Value  \n",
       "473                 3                  1                 0      4    Average  \n",
       "3232                2                  0                 0      2    Average  \n",
       "2207                3                  0                 0      3    Average  \n",
       "1934                3                  0                 0      3    Average  \n",
       "521                 3                  1                 0      4    Average  \n",
       "2197                3                  0                 0      3    Average  \n",
       "1560                3                  0                 0      3    Average  \n",
       "215                 3                  1                 0      4    Average  \n",
       "928                 3                  0                 0      3    Average  "
      ]
     },
     "execution_count": 26,
     "metadata": {},
     "output_type": "execute_result"
    }
   ],
   "source": [
    "# Vamos a dar un vistazo a la tabla final\n",
    "customer.sample(10)"
   ]
  },
  {
   "cell_type": "code",
   "execution_count": 27,
   "metadata": {},
   "outputs": [
    {
     "data": {
      "text/plain": [
       "SEGMENT\n",
       "Average       3545\n",
       "Low-Value      680\n",
       "Potential      127\n",
       "High-Value      20\n",
       "dtype: int64"
      ]
     },
     "execution_count": 27,
     "metadata": {},
     "output_type": "execute_result"
    }
   ],
   "source": [
    "# Imprime la proporción o el total de clientes por segmento\n",
    "customer.value_counts('SEGMENT')"
   ]
  },
  {
   "cell_type": "code",
   "execution_count": 28,
   "metadata": {},
   "outputs": [
    {
     "data": {
      "text/plain": [
       "Text(0.5, 1.0, 'Monetary vs Recency by Segment')"
      ]
     },
     "execution_count": 28,
     "metadata": {},
     "output_type": "execute_result"
    },
    {
     "data": {
      "image/png": "[encoded data removed]",
      "text/plain": [
       "<Figure size 1440x576 with 1 Axes>"
      ]
     },
     "metadata": {
      "needs_background": "light"
     },
     "output_type": "display_data"
    }
   ],
   "source": [
    "# Define un estilo 'bmh'\n",
    "plt.style.use('bmh')\n",
    "\n",
    "# Filtra los valores para RECENCY < 400\n",
    "qry = customer.query('RECENCY < 400')\n",
    "\n",
    "# Crea un grafico de dispersion de 'MONETARY' VS 'RECENCY' por Segmento\n",
    "f, ax = plt.subplots(figsize=(20,8))\n",
    "sns.scatterplot(data = qry,\n",
    "                x = 'RECENCY',\n",
    "                y = 'MONETARY',\n",
    "                hue = 'SEGMENT')\n",
    "ax.set_title('Monetary vs Recency by Segment')"
   ]
  },
  {
   "cell_type": "code",
   "execution_count": 29,
   "metadata": {},
   "outputs": [
    {
     "data": {
      "text/plain": [
       "Text(0.5, 1.0, 'Monetary vs Frequency by Segment')"
      ]
     },
     "execution_count": 29,
     "metadata": {},
     "output_type": "execute_result"
    },
    {
     "data": {
      "image/png": "[encoded data removed]",
      "text/plain": [
       "<Figure size 1440x576 with 1 Axes>"
      ]
     },
     "metadata": {
      "needs_background": "light"
     },
     "output_type": "display_data"
    }
   ],
   "source": [
    "# Crea un grafico de dispersion de 'MONETARY' vs 'FREQUENCY' vs  por Segmento\n",
    "f, ax = plt.subplots(figsize=(20,8))\n",
    "sns.scatterplot(data = customer,\n",
    "                x = 'FREQUENCY',\n",
    "                y = 'MONETARY',\n",
    "                hue = 'SEGMENT')\n",
    "ax.set_title('Monetary vs Frequency by Segment')"
   ]
  },
  {
   "cell_type": "code",
   "execution_count": 30,
   "metadata": {},
   "outputs": [],
   "source": [
    "customer.to_csv('data.csv')"
   ]
  }
 ],
 "metadata": {
  "kernelspec": {
   "display_name": "Python 3 (ipykernel)",
   "language": "python",
   "name": "python3"
  },
  "language_info": {
   "codemirror_mode": {
    "name": "ipython",
    "version": 3
   },
   "file_extension": ".py",
   "mimetype": "text/x-python",
   "name": "python",
   "nbconvert_exporter": "python",
   "pygments_lexer": "ipython3",
   "version": "3.9.12"
  }
 },
 "nbformat": 4,
 "nbformat_minor": 4
}
